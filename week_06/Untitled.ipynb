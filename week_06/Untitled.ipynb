{
 "cells": [
  {
   "cell_type": "code",
   "execution_count": 17,
   "metadata": {},
   "outputs": [],
   "source": [
    "x=(\"(123) 456-789a\")\n",
    "# print (x[0:5])\n",
    "# print (x[5])\n",
    "# print (x[6:9])\n",
    "# print (x[9])\n",
    "# print (x[10:14])\n",
    "\n",
    "# if len(x[0:5]) == 5 and x[5] == \" \" and len(x[6:9]) == 3 and x[9] == \"-\" and len(x[10:14]) == 3:\n",
    "#     return True\n",
    "# return False\n",
    "\n",
    "\n"
   ]
  },
  {
   "cell_type": "code",
   "execution_count": 21,
   "metadata": {},
   "outputs": [
    {
     "name": "stdout",
     "output_type": "stream",
     "text": [
      "1\n"
     ]
    }
   ],
   "source": [
    "import re\n",
    "\n",
    "patrones ()\n",
    "x=(\"(123) 456-789a\")\n",
    "y = re.match(r'^\\d{4}', x[10:14])\n",
    "if y == None:\n",
    "    print(1)\n"
   ]
  }
 ],
 "metadata": {
  "kernelspec": {
   "display_name": "Python 3",
   "language": "python",
   "name": "python3"
  },
  "language_info": {
   "codemirror_mode": {
    "name": "ipython",
    "version": 3
   },
   "file_extension": ".py",
   "mimetype": "text/x-python",
   "name": "python",
   "nbconvert_exporter": "python",
   "pygments_lexer": "ipython3",
   "version": "3.8.3"
  }
 },
 "nbformat": 4,
 "nbformat_minor": 4
}
